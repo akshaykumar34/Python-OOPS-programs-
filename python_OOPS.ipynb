{
  "nbformat": 4,
  "nbformat_minor": 0,
  "metadata": {
    "colab": {
      "name": "python OOPS  ",
      "provenance": [],
      "collapsed_sections": [],
      "authorship_tag": "ABX9TyPjaMsdzR6RIBz0lsZl0oiu"
    },
    "kernelspec": {
      "name": "python3",
      "display_name": "Python 3"
    },
    "language_info": {
      "name": "python"
    }
  },
  "cells": [
    {
      "cell_type": "markdown",
      "source": [
        "OOPS"
      ],
      "metadata": {
        "id": "fDplbnOhoNxE"
      }
    },
    {
      "cell_type": "code",
      "source": [
        "#OOPS\n",
        "class Test:\n",
        "  def __init__(self, num):\n",
        "    self.num = num #instance Variable\n",
        "    "
      ],
      "metadata": {
        "id": "5mGCMZH0nT09"
      },
      "execution_count": null,
      "outputs": []
    },
    {
      "cell_type": "code",
      "source": [
        "#Define a class in Python\n",
        "\n",
        "#In this example, we are creating a Person Class with name, sex, and profession instance variables.\n",
        "\n",
        "class Person:\n",
        "    def __init__(self, name, sex, profession):\n",
        "        # data members (instance variables)\n",
        "        self.name = name\n",
        "        self.sex = sex\n",
        "        self.profession = profession\n",
        "\n",
        "    # Behavior (instance methods)\n",
        "    def show(self):\n",
        "        print('Name:', self.name, 'Sex:', self.sex, 'Profession:', self.profession)\n",
        "\n",
        "    # Behavior (instance methods)\n",
        "    def work(self):\n",
        "        print(self.name, 'working as a', self.profession)"
      ],
      "metadata": {
        "id": "43Canq0gnV6-"
      },
      "execution_count": null,
      "outputs": []
    },
    {
      "cell_type": "code",
      "source": [
        "#Define and call an instance method and class method\n",
        "\n",
        "# class methods demo\n",
        "class Student:\n",
        "    # class variable\n",
        "    school_name = 'ABC School'\n",
        "\n",
        "    # constructor\n",
        "    def __init__(self, name, age):\n",
        "        # instance variables\n",
        "        self.name = name\n",
        "        self.age = age\n",
        "\n",
        "    # instance method\n",
        "    def show(self):\n",
        "        # access instance variables and class variables\n",
        "        print('Student:', self.name, self.age, Student.school_name)\n",
        "\n",
        "    # instance method\n",
        "    def change_age(self, new_age):\n",
        "        # modify instance variable\n",
        "        self.age = new_age\n",
        "\n",
        "    # class method\n",
        "    @classmethod\n",
        "    def modify_school_name(cls, new_name):\n",
        "        # modify class variable\n",
        "        cls.school_name = new_name\n",
        "\n",
        "s1 = Student(\"Harry\", 12)\n",
        "\n",
        "# call instance methods\n",
        "s1.show()\n",
        "s1.change_age(14)\n",
        "\n",
        "# call class method\n",
        "Student.modify_school_name('XYZ School')\n",
        "# call instance methods\n",
        "s1.show()"
      ],
      "metadata": {
        "colab": {
          "base_uri": "https://localhost:8080/"
        },
        "id": "bxZcJjuuoQ-Q",
        "outputId": "62ea617a-d5ed-4342-a43a-7b982954b7b5"
      },
      "execution_count": null,
      "outputs": [
        {
          "output_type": "stream",
          "name": "stdout",
          "text": [
            "Student: Harry 12 ABC School\n",
            "Student: Harry 14 XYZ School\n"
          ]
        }
      ]
    },
    {
      "cell_type": "code",
      "source": [
        "#function\n",
        "def display(name):\n",
        "    print(\"hello\",name)\n",
        "    return\n",
        "    #main\n",
        "    display(akshay)\n",
        "    display(raja)\n",
        "print(display)\n",
        "#this is known as procedural oriented programming language"
      ],
      "metadata": {
        "colab": {
          "base_uri": "https://localhost:8080/"
        },
        "id": "l4FEzkatWyN6",
        "outputId": "ca9b8414-8139-4afc-a91f-f6e387f2ad95"
      },
      "execution_count": null,
      "outputs": [
        {
          "output_type": "stream",
          "name": "stdout",
          "text": [
            "<function display at 0x7f220d532830>\n"
          ]
        }
      ]
    },
    {
      "cell_type": "code",
      "source": [
        ""
      ],
      "metadata": {
        "id": "ysJ17EmlWxrM"
      },
      "execution_count": null,
      "outputs": []
    },
    {
      "cell_type": "code",
      "source": [
        "#Every object has properties associated with them. We can set or modify the object’s properties after object initialization \n",
        "#by calling the property directly using the dot operator.\n",
        "\n",
        "class Fruit:\n",
        "    def __init__(self, name, color):\n",
        "        self.name = name\n",
        "        self.color = color\n",
        "\n",
        "    def show(self):\n",
        "        print(\"Fruit is\", self.name, \"and Color is\", self.color)\n",
        "\n",
        "# creating object of the class\n",
        "obj = Fruit(\"Apple\", \"red\")\n",
        "\n",
        "# Modifying Object Properties\n",
        "obj.name = \"strawberry\"\n",
        "\n",
        "# calling the instance method using the object obj\n",
        "obj.show()"
      ],
      "metadata": {
        "colab": {
          "base_uri": "https://localhost:8080/"
        },
        "id": "17nZEgDIooLH",
        "outputId": "e7aff88d-902f-48f0-e265-a434462cf853"
      },
      "execution_count": null,
      "outputs": [
        {
          "output_type": "stream",
          "name": "stdout",
          "text": [
            "Fruit is strawberry and Color is red\n"
          ]
        }
      ]
    },
    {
      "cell_type": "code",
      "source": [
        "#Delete object properties\n",
        "#We can delete the object property by using the del keyword. After deleting it, if we try to access it, we will get an error.\n",
        "\n",
        "class Fruit:\n",
        "    def __init__(self, name, color):\n",
        "        self.name = name\n",
        "        self.color = color\n",
        "\n",
        "    def show(self):\n",
        "        print(\"Fruit is\", self.name, \"and Color is\", self.color)\n",
        "\n",
        "# creating object of the class\n",
        "obj = Fruit(\"Apple\", \"red\")\n",
        "\n",
        "# Deleting Object Properties\n",
        "del obj.name\n",
        "\n",
        "# Accessing object properties after deleting\n",
        "print(obj.name)"
      ],
      "metadata": {
        "colab": {
          "base_uri": "https://localhost:8080/",
          "height": 200
        },
        "id": "0MXa7Fx_qJRY",
        "outputId": "ff605a7a-f853-4d0c-a9a2-37cdb242a37b"
      },
      "execution_count": null,
      "outputs": [
        {
          "output_type": "error",
          "ename": "AttributeError",
          "evalue": "ignored",
          "traceback": [
            "\u001b[0;31m---------------------------------------------------------------------------\u001b[0m",
            "\u001b[0;31mAttributeError\u001b[0m                            Traceback (most recent call last)",
            "\u001b[0;32m<ipython-input-5-bf4f401c928e>\u001b[0m in \u001b[0;36m<module>\u001b[0;34m()\u001b[0m\n\u001b[1;32m     17\u001b[0m \u001b[0;34m\u001b[0m\u001b[0m\n\u001b[1;32m     18\u001b[0m \u001b[0;31m# Accessing object properties after deleting\u001b[0m\u001b[0;34m\u001b[0m\u001b[0;34m\u001b[0m\u001b[0;34m\u001b[0m\u001b[0m\n\u001b[0;32m---> 19\u001b[0;31m \u001b[0mprint\u001b[0m\u001b[0;34m(\u001b[0m\u001b[0mobj\u001b[0m\u001b[0;34m.\u001b[0m\u001b[0mname\u001b[0m\u001b[0;34m)\u001b[0m\u001b[0;34m\u001b[0m\u001b[0;34m\u001b[0m\u001b[0m\n\u001b[0m",
            "\u001b[0;31mAttributeError\u001b[0m: 'Fruit' object has no attribute 'name'"
          ]
        }
      ]
    },
    {
      "cell_type": "code",
      "source": [
        "def __init__(self):\n",
        "    # body of the constructor\n",
        "    Where,\n",
        "\n",
        "#def: The keyword is used to define function.\n",
        "#__init__() Method: It is a reserved method. This method gets called as soon as an object of a class is instantiated.\n",
        "#self: The first argument self refers to the current object. It binds the instance to the __init__() method. It’s usually\n",
        "#named self to follow the naming convention"
      ],
      "metadata": {
        "id": "RSh8_1YZqz0U"
      },
      "execution_count": null,
      "outputs": []
    },
    {
      "cell_type": "code",
      "source": [
        "#Note: The __init__() method arguments are optional. We can define a constructor with any number of arguments.\n",
        "#The default constructor is not present in the source py file. It is inserted into the code during compilation if not exists\n",
        "#A constructor without any arguments is called a non-parameterized constructor. This type of constructor is used to initialize each object with default values.\n",
        "\n",
        "#This constructor doesn’t accept the arguments during object creation. Instead, it initializes every object with the same set of values.\n",
        "class Company:\n",
        "\n",
        "    # no-argument constructor\n",
        "    def __init__(self):\n",
        "        self.name = \"PYnative\"\n",
        "        self.address = \"ABC Street\"\n",
        "\n",
        "    # a method for printing data members\n",
        "    def show(self):\n",
        "        print('Name:', self.name, 'Address:', self.address)\n",
        "\n",
        "# creating object of the class\n",
        "cmp = Company()\n",
        "\n",
        "# calling the instance method using the object\n",
        "cmp.show()\n",
        "\n"
      ],
      "metadata": {
        "id": "3d2plf3mGFwu",
        "colab": {
          "base_uri": "https://localhost:8080/"
        },
        "outputId": "8b3095b7-4753-4cfe-b434-f7b085096b24"
      },
      "execution_count": null,
      "outputs": [
        {
          "output_type": "stream",
          "name": "stdout",
          "text": [
            "Name: PYnative Address: ABC Street\n"
          ]
        }
      ]
    },
    {
      "cell_type": "markdown",
      "source": [
        "A constructor with defined parameters or arguments is called a parameterized constructor. We can pass different values to each object at the time of creation using a parameterized constructor.\n",
        "\n",
        "The first parameter to constructor is self that is a reference to the being constructed, and the rest of the arguments are provided by the programmer. A parameterized constructor can have any number of arguments.\n",
        "\n",
        "For example, consider a company that contains thousands of employees. In this case, while creating each employee object, we need to pass a different name, age, and salary. In such cases, use the parameterized constructor"
      ],
      "metadata": {
        "id": "1eTXgSxScBna"
      }
    },
    {
      "cell_type": "code",
      "source": [
        "class Employee:\n",
        "    # parameterized constructor\n",
        "    def __init__(self, name, age, salary):\n",
        "        self.name = name\n",
        "        self.age = age\n",
        "        self.salary = salary\n",
        "\n",
        "    # display object\n",
        "    def show(self):\n",
        "        print(self.name, self.age, self.salary)\n",
        "\n",
        "# creating object of the Employee class\n",
        "emma = Employee('Emma', 23, 7500)\n",
        "emma.show()\n",
        "\n",
        "kelly = Employee('Kelly', 25, 8500)\n",
        "kelly.show()"
      ],
      "metadata": {
        "colab": {
          "base_uri": "https://localhost:8080/"
        },
        "id": "x1lHa7ncb5RQ",
        "outputId": "ae19cf9d-74f3-435f-9445-bca79c6185d4"
      },
      "execution_count": null,
      "outputs": [
        {
          "output_type": "stream",
          "name": "stdout",
          "text": [
            "Emma 23 7500\n",
            "Kelly 25 8500\n"
          ]
        }
      ]
    },
    {
      "cell_type": "markdown",
      "source": [
        "Constructors are used for instantiating an object. The task of the constructor is to assign value to data members when an object of the class is created.\n",
        "\n",
        "Constructor chaining is the process of calling one constructor from another constructor. Constructor chaining is useful when you want to invoke multiple constructors, one after another, by initializing only one instance.\n",
        "\n",
        "In Python, constructor chaining is convenient when we are dealing with inheritance. When an instance of a child class is initialized, the constructors of all the parent classes are first invoked and then, in the end, the constructor of the child class is invoked.\n",
        "\n",
        "Using the super() method we can invoke the parent class constructor from a child class."
      ],
      "metadata": {
        "id": "EYF2wu8Aguml"
      }
    },
    {
      "cell_type": "code",
      "source": [
        "class Vehicle:\n",
        "    # Constructor of Vehicle\n",
        "    def __init__(self, engine):\n",
        "        print('Inside Vehicle Constructor')\n",
        "        self.engine = engine\n",
        "\n",
        "class Car(Vehicle):\n",
        "    # Constructor of Car\n",
        "    def __init__(self, engine, max_speed):\n",
        "        super().__init__(engine)\n",
        "        print('Inside Car Constructor')\n",
        "        self.max_speed = max_speed\n",
        "\n",
        "class Electric_Car(Car):\n",
        "    # Constructor of Electric Car\n",
        "    def __init__(self, engine, max_speed, km_range):\n",
        "        super().__init__(engine, max_speed)\n",
        "        print('Inside Electric Car Constructor')\n",
        "        self.km_range = km_range\n",
        "\n",
        "# Object of electric car\n",
        "ev = Electric_Car('1500cc', 240, 750)\n",
        "print(f'Engine={ev.engine}, Max Speed={ev.max_speed}, Km range={ev.km_range}')"
      ],
      "metadata": {
        "colab": {
          "base_uri": "https://localhost:8080/"
        },
        "id": "jqEFNRbkm5aX",
        "outputId": "2c1a2c9c-93d0-474f-94ba-2a9cf72b9102"
      },
      "execution_count": null,
      "outputs": [
        {
          "output_type": "stream",
          "name": "stdout",
          "text": [
            "Inside Vehicle Constructor\n",
            "Inside Car Constructor\n",
            "Inside Electric Car Constructor\n",
            "Engine=1500cc, Max Speed=240, Km range=750\n"
          ]
        }
      ]
    },
    {
      "cell_type": "code",
      "source": [
        "#he constructor executes when we create the object of the class. For every object, the constructor is called only once. \n",
        "#So for counting the number of objects of a class, we can add a counter in the constructor, which increments by one after each object creation.\n",
        "class Employee:\n",
        "    count = 0\n",
        "    def __init__(self):\n",
        "        Employee.count = Employee.count + 1\n",
        "\n",
        "\n",
        "# creating objects\n",
        "e1 = Employee()\n",
        "e2 = Employee()\n",
        "e2 = Employee()\n",
        "print(\"The number of Employee:\", Employee.count)"
      ],
      "metadata": {
        "colab": {
          "base_uri": "https://localhost:8080/"
        },
        "id": "TNd237lSnG3n",
        "outputId": "20bbe0e2-263f-4eca-e2d5-19b7effc9335"
      },
      "execution_count": null,
      "outputs": [
        {
          "output_type": "stream",
          "name": "stdout",
          "text": [
            "The number of Employee: 3\n"
          ]
        }
      ]
    },
    {
      "cell_type": "markdown",
      "source": [
        "A constructor is a unique method used to initialize an object of the class.\n",
        "Python will provide a default constructor if no constructor is defined.\n",
        "Constructor is not a method and doesn’t return anything. it returns None\n",
        "In Python, we have three types of constructor default, Non-parametrized, and parameterized constructor.\n",
        "Using self, we can access the instance variable and instance method of the object. The first argument self refers to the current object.\n",
        "Constructor overloading is not possible in Python.\n",
        "If the parent class doesn’t have a default constructor, then the compiler would not insert a default constructor in the child class.\n",
        "A child class constructor can also invoke the parent class constructor using the super() method."
      ],
      "metadata": {
        "id": "xyQvzvjlplwb"
      }
    },
    {
      "cell_type": "markdown",
      "source": [
        "Destructor is a special method that is called when an object gets destroyed. On the other hand, a constructor is used to create and initialize an object of a class."
      ],
      "metadata": {
        "id": "GTb0xjoBp9l6"
      }
    },
    {
      "cell_type": "markdown",
      "source": [
        "The magic method __del__() is used as the destructor in Python. The __del__() method will be implicitly invoked when all references to the object have been deleted, i.e., is when an object is eligible for the garbage collector.\n",
        "\n",
        "This method is automatically called by Python when the instance is about to be destroyed. It is also called a finalizer or (improperly) a destructor.\n",
        "\n",
        "Syntax of destructor declaration\n",
        "\n",
        "def __del__(self):\n",
        "    # body of a destructor\n",
        "Where,\n",
        "\n",
        "def: The keyword is used to define a method.\n",
        "__del__() Method: It is a reserved method. This method gets called as soon as all references to the object have been deleted\n",
        "self: The first argument self refers to the current object.\n"
      ],
      "metadata": {
        "id": "KOvLbO_G1xQN"
      }
    },
    {
      "cell_type": "code",
      "source": [
        "class Student:\n",
        "\n",
        "    # constructor\n",
        "    def __init__(self, name):\n",
        "        print('Inside Constructor')\n",
        "        self.name = name\n",
        "        print('Object initialized')\n",
        "\n",
        "    def show(self):\n",
        "        print('Hello, my name is', self.name)\n",
        "\n",
        "    # destructor\n",
        "    def __del__(self):\n",
        "        print('Inside destructor')\n",
        "        print('Object destroyed')\n",
        "\n",
        "# create object\n",
        "s1 = Student('Emma')\n",
        "s1.show()\n",
        "\n",
        "# delete object\n",
        "del s1\n"
      ],
      "metadata": {
        "colab": {
          "base_uri": "https://localhost:8080/"
        },
        "id": "HQxMyHIpo3eI",
        "outputId": "2cd63f41-f5e0-4c50-e82b-4706fee20f13"
      },
      "execution_count": null,
      "outputs": [
        {
          "output_type": "stream",
          "name": "stdout",
          "text": [
            "Inside Constructor\n",
            "Object initialized\n",
            "Hello, my name is Emma\n",
            "Inside destructor\n",
            "Object destroyed\n"
          ]
        }
      ]
    },
    {
      "cell_type": "code",
      "source": [
        "import time\n",
        "\n",
        "class Student:\n",
        "\n",
        "    # constructor\n",
        "    def __init__(self, name):\n",
        "        print('Inside Constructor')\n",
        "        self.name = name\n",
        "\n",
        "    def show(self):\n",
        "        print('Hello, my name is', self.name)\n",
        "\n",
        "    # destructor\n",
        "    def __del__(self):\n",
        "        print('Object destroyed')\n",
        "\n",
        "# create object\n",
        "s1 = Student('Emma')\n",
        "# create new reference\n",
        "# both reference points to the same object\n",
        "s2 = s1\n",
        "s1.show()\n",
        "\n",
        "# delete object reference s1\n",
        "del s1\n",
        "\n",
        "# add sleep and observe the output\n",
        "time.sleep(5)\n",
        "print('After sleep')\n",
        "s2.show()"
      ],
      "metadata": {
        "colab": {
          "base_uri": "https://localhost:8080/"
        },
        "id": "jrgClw--2c0y",
        "outputId": "52d7b59d-95f3-4c8f-a254-dee26838038f"
      },
      "execution_count": null,
      "outputs": [
        {
          "output_type": "stream",
          "name": "stdout",
          "text": [
            "Inside Constructor\n",
            "Hello, my name is Emma\n",
            "After sleep\n",
            "Hello, my name is Emma\n"
          ]
        }
      ]
    },
    {
      "cell_type": "code",
      "source": [
        "import time\n",
        "\n",
        "\n",
        "class Vehicle():\n",
        "    def __init__(self, id, car):\n",
        "        self.id = id;\n",
        "        # saving reference of Car object\n",
        "        self.dealer = car;\n",
        "        print('Vehicle', self.id, 'created');\n",
        "\n",
        "    def __del__(self):\n",
        "        print('Vehicle', self.id, 'destroyed');\n",
        "\n",
        "\n",
        "class Car():\n",
        "    def __init__(self, id):\n",
        "        self.id = id;\n",
        "        # saving Vehicle class object in 'dealer' variable\n",
        "        # Sending reference of Car object ('self') for Vehicle object\n",
        "        self.dealer = Vehicle(id, self);\n",
        "        print('Car', self.id, 'created')\n",
        "\n",
        "    def __del__(self):\n",
        "        print('Car', self.id, 'destroyed')\n",
        "\n",
        "\n",
        "# create car object\n",
        "c = Car(12)\n",
        "# delete car object\n",
        "del c\n",
        "# ideally destructor must execute now\n",
        "\n",
        "# to observe the behavior\n",
        "time.sleep(8)"
      ],
      "metadata": {
        "id": "fuWZPj5_27vL",
        "outputId": "cbbc0ac1-2ce3-4242-8661-f996b9edb058",
        "colab": {
          "base_uri": "https://localhost:8080/"
        }
      },
      "execution_count": null,
      "outputs": [
        {
          "output_type": "stream",
          "name": "stdout",
          "text": [
            "Vehicle 12 created\n",
            "Car 12 created\n"
          ]
        }
      ]
    },
    {
      "cell_type": "markdown",
      "source": [
        "In this example, we create an Employee class by defining employee attributes such as name and salary as an instance variable and implementing behavior using work() and show() instance methods."
      ],
      "metadata": {
        "id": "IxuoUdTL-tf6"
      }
    },
    {
      "cell_type": "code",
      "source": [
        "#Encapsulation\n",
        "class Employee:\n",
        "    # constructor\n",
        "    def __init__(self, name, salary, project):\n",
        "        # data members\n",
        "        self.name = name\n",
        "        self.salary = salary\n",
        "        self.project = project\n",
        "\n",
        "    # method\n",
        "    # to display employee's details\n",
        "    def show(self):\n",
        "        # accessing public data member\n",
        "        print(\"Name: \", self.name, 'Salary:', self.salary)\n",
        "\n",
        "    # method\n",
        "    def work(self):\n",
        "        print(self.name, 'is working on', self.project)\n",
        "\n",
        "# creating object of a class\n",
        "emp = Employee('Jessa', 8000, 'NLP')\n",
        "\n",
        "# calling public method of the class\n",
        "emp.show()\n",
        "emp.work()"
      ],
      "metadata": {
        "colab": {
          "base_uri": "https://localhost:8080/"
        },
        "id": "zAH9X1CA-u3y",
        "outputId": "bb2a3917-6ebe-488f-c27b-62eb37008b93"
      },
      "execution_count": null,
      "outputs": [
        {
          "output_type": "stream",
          "name": "stdout",
          "text": [
            "Name:  Jessa Salary: 8000\n",
            "Jessa is working on NLP\n"
          ]
        }
      ]
    },
    {
      "cell_type": "markdown",
      "source": [
        "Using encapsulation, we can hide an object’s internal representation from the outside. This is called information hiding.\n",
        "\n",
        "Also, encapsulation allows us to restrict accessing variables and methods directly and prevent accidental data modification by creating private data members and methods within a class.\n",
        "\n",
        "Encapsulation is a way to can restrict access to methods and variables from outside of class. Whenever we are working with the class and dealing with sensitive data, providing access to all variables used within the class is not a good choice.\n",
        "\n",
        "For example, Suppose you have an attribute that is not visible from the outside of an object and bundle it with methods that provide read or write access. In that case, you can hide specific information and control access to the object’s internal state. Encapsulation offers a way for us to access the required variable without providing the program full-fledged access to all variables of a class. This mechanism is used to protect the data of an object from other objects.\n",
        "\n",
        "\n",
        "Access Modifiers in Python\n",
        "Encapsulation can be achieved by declaring the data members and methods of a class either as private or protected. But In Python, we don’t have direct access modifiers like public, private, and protected. We can achieve this by using single underscore and double underscores.\n",
        "\n",
        "Access modifiers limit access to the variables and methods of a class. Python provides three types of access modifiers private, public, and protected.\n",
        "\n",
        "Public Member: Accessible anywhere from otside oclass.\n",
        "Private Member: Accessible within the class\n",
        "Protected Member: Accessible within the class and its sub-classes"
      ],
      "metadata": {
        "id": "nuu4i6O8__5O"
      }
    },
    {
      "cell_type": "markdown",
      "source": [
        "Public data members are accessible within and outside of a class. All member variables of the class are by default public."
      ],
      "metadata": {
        "id": "vOsEi_g-AMGF"
      }
    },
    {
      "cell_type": "code",
      "source": [
        "class Employee:\n",
        "    # constructor\n",
        "    def __init__(self, name, salary):\n",
        "        # public data members\n",
        "        self.name = name\n",
        "        self.salary = salary#instance \n",
        "\n",
        "    # public instance methods\n",
        "    def show(self):\n",
        "        # accessing public data member\n",
        "        print(\"Name: \", self.name, 'Salary:', self.salary)\n",
        "\n",
        "# creating object of a class\n",
        "emp = Employee('Jessa', 10000)\n",
        "\n",
        "# accessing public data members\n",
        "print(\"Name: \", emp.name, 'Salary:', emp.salary)\n",
        "\n",
        "# calling public method of the class\n",
        "emp.show()"
      ],
      "metadata": {
        "colab": {
          "base_uri": "https://localhost:8080/"
        },
        "id": "aEkP7tGN-1ze",
        "outputId": "4ea3bbec-5d2e-4a5e-f1e1-9f4a4ade616e"
      },
      "execution_count": null,
      "outputs": [
        {
          "output_type": "stream",
          "name": "stdout",
          "text": [
            "Name:  Jessa Salary: 10000\n",
            "Name:  Jessa Salary: 10000\n"
          ]
        }
      ]
    },
    {
      "cell_type": "markdown",
      "source": [
        "Private Member\n",
        "\n",
        "We can protect variables in the class by marking them private. To define a private variable add two underscores as a prefix at the start of a variable name.\n",
        "\n",
        "Private members are accessible only within the class, and we can’t access them directly from the class objects.\n",
        "\n",
        " Example: Access Private member outside of a class using an instance method\n",
        "\n"
      ],
      "metadata": {
        "id": "rjMNbN9cAtxQ"
      }
    },
    {
      "cell_type": "code",
      "source": [
        "class Employee:\n",
        "    # constructor\n",
        "    def __init__(self, name, salary):\n",
        "        # public data member\n",
        "        self.name = name\n",
        "        # private member\n",
        "        self.__salary = salary\n",
        "\n",
        "    # public instance methods\n",
        "    def show(self):\n",
        "        # private members are accessible from a class\n",
        "        print(\"Name: \", self.name, 'Salary:', self.__salary)\n",
        "\n",
        "# creating object of a class\n",
        "emp = Employee('Jessa', 10000)\n",
        "\n",
        "# calling public method of the class\n",
        "emp.show()"
      ],
      "metadata": {
        "colab": {
          "base_uri": "https://localhost:8080/"
        },
        "id": "XTSzycWyAzMW",
        "outputId": "d6ae2f1d-6d02-40dc-c175-84a268e8cf96"
      },
      "execution_count": null,
      "outputs": [
        {
          "output_type": "stream",
          "name": "stdout",
          "text": [
            "Name:  Jessa Salary: 10000\n"
          ]
        }
      ]
    },
    {
      "cell_type": "markdown",
      "source": [
        "Name Mangling to access private members\n",
        "We can directly access private and protected variables from outside of a class through name mangling. The name mangling is created on an identifier by adding two leading underscores and one trailing underscore, like this _classname__dataMember, where classname is the current class, and data member is the private variable name.\n",
        "\n",
        "Example: Access private member\n",
        "\n"
      ],
      "metadata": {
        "id": "N2IHRdjtB0PP"
      }
    },
    {
      "cell_type": "code",
      "source": [
        "class Employee:\n",
        "    # constructor\n",
        "    def __init__(self, name, salary):\n",
        "        # public data member\n",
        "        self.name = name\n",
        "        # private member\n",
        "        self.__salary = salary\n",
        "\n",
        "# creating object of a class\n",
        "emp = Employee('Jessa', 10000)\n",
        "\n",
        "print('Name:', emp.name)\n",
        "# direct access to private member using name mangling\n",
        "print('Salary:', emp._Employee__salary)"
      ],
      "metadata": {
        "colab": {
          "base_uri": "https://localhost:8080/"
        },
        "id": "vTnZ5IeXB1hA",
        "outputId": "ca808913-5ecb-4205-ddf5-5fa48277a89b"
      },
      "execution_count": null,
      "outputs": [
        {
          "output_type": "stream",
          "name": "stdout",
          "text": [
            "Name: Jessa\n",
            "Salary: 10000\n"
          ]
        }
      ]
    },
    {
      "cell_type": "markdown",
      "source": [
        "Protected Member\n",
        "Protected members are accessible within the class and also available to its sub-classes. To define a protected member, prefix the member name with a single underscore _.\n",
        "\n",
        "Protected data members are used when you implement inheritance and want to allow data members access to only child classes.\n",
        "\n",
        "Example: Proctecd member in inheritance."
      ],
      "metadata": {
        "id": "mjCj2WXbCKEO"
      }
    },
    {
      "cell_type": "code",
      "source": [
        "# base class\n",
        "class Company:\n",
        "    def __init__(self):\n",
        "        # Protected member\n",
        "        self._project = \"NLP\"\n",
        "\n",
        "# child class\n",
        "class Employee(Company):\n",
        "    def __init__(self, name):\n",
        "        self.name = name\n",
        "        Company.__init__(self)\n",
        "\n",
        "    def show(self):\n",
        "        print(\"Employee name :\", self.name)\n",
        "        # Accessing protected member in child class\n",
        "        print(\"Working on project :\", self._project)\n",
        "\n",
        "c = Employee(\"Jessa\")\n",
        "c.show()\n",
        "\n",
        "# Direct access protected data member\n",
        "print('Project:', c._project)"
      ],
      "metadata": {
        "colab": {
          "base_uri": "https://localhost:8080/"
        },
        "id": "qqe3Ba9vB5D4",
        "outputId": "9d39e072-d018-4729-e0ef-eedfcfeec9ba"
      },
      "execution_count": null,
      "outputs": [
        {
          "output_type": "stream",
          "name": "stdout",
          "text": [
            "Employee name : Jessa\n",
            "Working on project : NLP\n",
            "Project: NLP\n"
          ]
        }
      ]
    },
    {
      "cell_type": "markdown",
      "source": [
        "To implement proper encapsulation in Python, we need to use setters and getters. The primary purpose of using getters and setters in object-oriented programs is to ensure data encapsulation. Use the getter method to access data members and the setter methods to modify the data members.\n",
        "\n",
        "In Python, private variables are not hidden fields like in other programming languages. The getters and setters methods are often used when:\n",
        "\n",
        "When we want to avoid direct access to private variables\n",
        "To add validation logic for setting a value"
      ],
      "metadata": {
        "id": "5FC-WwHBCosR"
      }
    },
    {
      "cell_type": "code",
      "source": [
        "class Student:\n",
        "    def __init__(self, name, age):\n",
        "        # private member\n",
        "        self.name = name\n",
        "        self.__age = age\n",
        "\n",
        "    # getter method\n",
        "    def get_age(self):\n",
        "        return self.__age\n",
        "\n",
        "    # setter method\n",
        "    def set_age(self, age):\n",
        "        self.__age = age\n",
        "\n",
        "stud = Student('Jessa', 14)\n",
        "\n",
        "# retrieving age using getter\n",
        "print('Name:', stud.name, stud.get_age())\n",
        "\n",
        "# changing age using setter\n",
        "stud.set_age(16)\n",
        "\n",
        "# retrieving age using getter\n",
        "print('Name:', stud.name, stud.get_age())"
      ],
      "metadata": {
        "colab": {
          "base_uri": "https://localhost:8080/"
        },
        "id": "rBCkegp4CTRo",
        "outputId": "2c684b74-400f-4eff-9723-1440e6245f76"
      },
      "execution_count": null,
      "outputs": [
        {
          "output_type": "stream",
          "name": "stdout",
          "text": [
            "Name: Jessa 14Car 12 destroyed\n",
            "Vehicle 12 destroyed\n",
            "\n",
            "Name: Jessa 16\n"
          ]
        }
      ]
    },
    {
      "cell_type": "markdown",
      "source": [
        "Information Hiding and conditional logic for setting an object attributes\n",
        "\n"
      ],
      "metadata": {
        "id": "ObZqOKf9C65C"
      }
    },
    {
      "cell_type": "code",
      "source": [
        "class Student:\n",
        "    def __init__(self, name, roll_no, age):\n",
        "        # private member\n",
        "        self.name = name\n",
        "        # private members to restrict access\n",
        "        # avoid direct data modification\n",
        "        self.__roll_no = roll_no\n",
        "        self.__age = age\n",
        "\n",
        "    def show(self):\n",
        "        print('Student Details:', self.name, self.__roll_no)\n",
        "\n",
        "    # getter methods\n",
        "    def get_roll_no(self):\n",
        "        return self.__roll_no\n",
        "\n",
        "    # setter method to modify data member\n",
        "    # condition to allow data modification with rules\n",
        "    def set_roll_no(self, number):\n",
        "        if number > 50:\n",
        "            print('Invalid roll no. Please set correct roll number')\n",
        "        else:\n",
        "            self.__roll_no = number\n",
        "\n",
        "jessa = Student('Jessa', 10, 15)\n",
        "\n",
        "# before Modify\n",
        "jessa.show()\n",
        "# changing roll number using setter\n",
        "jessa.set_roll_no(120)\n",
        "\n",
        "\n",
        "jessa.set_roll_no(25)\n",
        "jessa.show()"
      ],
      "metadata": {
        "colab": {
          "base_uri": "https://localhost:8080/"
        },
        "id": "xtMmKWnJCxSM",
        "outputId": "0e644a13-5362-4e95-9122-c56b967f4cd2"
      },
      "execution_count": null,
      "outputs": [
        {
          "output_type": "stream",
          "name": "stdout",
          "text": [
            "Student Details: Jessa 10\n",
            "Invalid roll no. Please set correct roll number\n",
            "Student Details: Jessa 25\n"
          ]
        }
      ]
    },
    {
      "cell_type": "markdown",
      "source": [
        "Advantages of Encapsulation\n",
        "Security: The main advantage of using encapsulation is the security of the data. Encapsulation protects an object from unauthorized access. It allows private and protected access levels to prevent accidental data modification.\n",
        "Data Hiding: The user would not be knowing what is going on behind the scene. They would only be knowing that to modify a data member, call the setter method. To read a data member, call the getter method. What these setter and getter methods are doing is hidden from them.\n",
        "Simplicity: It simplifies the maintenance of the application by keeping classes separated and preventing them from tightly coupling with each other.\n",
        "Aesthetics: Bundling data and methods within a class makes code more readable and maintainable"
      ],
      "metadata": {
        "id": "0xZ-fpOyDI7z"
      }
    },
    {
      "cell_type": "code",
      "source": [
        "students = ['Emma', 'Jessa', 'Kelly']\n",
        "school = 'ABC School'\n",
        "\n",
        "# calculate count\n",
        "print(len(students))\n",
        "print(len(school))"
      ],
      "metadata": {
        "colab": {
          "base_uri": "https://localhost:8080/"
        },
        "id": "irNCH4mBDAZz",
        "outputId": "442ac64a-9992-43b1-9239-c978c65bd312"
      },
      "execution_count": null,
      "outputs": [
        {
          "output_type": "stream",
          "name": "stdout",
          "text": [
            "3\n",
            "10\n"
          ]
        }
      ]
    },
    {
      "cell_type": "markdown",
      "source": [
        "In polymorphism, Python first checks the object’s class type and executes the appropriate method when we call the method. For example, If you create the Car object, then Python calls the speed() method from a Car class."
      ],
      "metadata": {
        "id": "Q3pyPW45Ihbw"
      }
    },
    {
      "cell_type": "code",
      "source": [
        "class Vehicle:\n",
        "\n",
        "    def __init__(self, name, color, price):\n",
        "        self.name = name\n",
        "        self.color = color\n",
        "        self.price = price\n",
        "\n",
        "    def show(self):\n",
        "        print('Details:', self.name, self.color, self.price)\n",
        "\n",
        "    def max_speed(self):\n",
        "        print('Vehicle max speed is 150')\n",
        "\n",
        "    def change_gear(self):\n",
        "        print('Vehicle change 6 gear')\n",
        "\n",
        "\n",
        "# inherit from vehicle class\n",
        "class Car(Vehicle):\n",
        "    def max_speed(self):\n",
        "        print('Car max speed is 240')\n",
        "\n",
        "    def change_gear(self):\n",
        "        print('Car change 7 gear')\n",
        "\n",
        "\n",
        "# Car Object\n",
        "car = Car('Car x1', 'Red', 20000)\n",
        "car.show()\n",
        "# calls methods from Car class\n",
        "car.max_speed()\n",
        "car.change_gear()\n",
        "\n",
        "# Vehicle Object\n",
        "vehicle = Vehicle('Truck x1', 'white', 75000)\n",
        "vehicle.show()\n",
        "# calls method from a Vehicle class\n",
        "vehicle.max_speed()\n",
        "vehicle.change_gear()"
      ],
      "metadata": {
        "id": "eBeP2k2_GeLd",
        "colab": {
          "base_uri": "https://localhost:8080/"
        },
        "outputId": "b83ba1fd-cf89-4df9-8a44-998c7edb4615"
      },
      "execution_count": null,
      "outputs": [
        {
          "output_type": "stream",
          "name": "stdout",
          "text": [
            "Details: Car x1 Red 20000\n",
            "Car max speed is 240\n",
            "Car change 7 gear\n",
            "Details: Truck x1 white 75000\n",
            "Vehicle max speed is 150\n",
            "Vehicle change 6 gear\n"
          ]
        }
      ]
    },
    {
      "cell_type": "markdown",
      "source": [
        "As you can see, due to polymorphism, the Python interpreter recognizes that the max_speed() and change_gear() methods are overridden for the car object. So, it uses the one defined in the child class (Car)\n",
        "\n",
        "On the other hand, the show() method isn’t overridden in the Car class, so it is used from the Vehicle class.\n",
        "\n",
        "Overrride Built-in Functions\n",
        "In Python, we can change the default behavior of the built-in functions. For example, we can change or extend the built-in functions such as len(), abs(), or divmod() by redefining them in our class."
      ],
      "metadata": {
        "id": "Kri3bW4nJOJK"
      }
    },
    {
      "cell_type": "code",
      "source": [
        "#we will redefine the function len()\n",
        "class Shopping:\n",
        "    def __init__(self, basket, buyer):\n",
        "        self.basket = list(basket)\n",
        "        self.buyer = buyer\n",
        "\n",
        "    def __len__(self):\n",
        "        print('Redefine length')\n",
        "        count = len(self.basket)\n",
        "        # count total items in a different way\n",
        "        # pair of shoes and shir+pant\n",
        "        return count * 2\n",
        "\n",
        "shopping = Shopping(['Shoes', 'dress'], 'Jessa')\n",
        "print(len(shopping))\n"
      ],
      "metadata": {
        "colab": {
          "base_uri": "https://localhost:8080/"
        },
        "id": "YdJVuvBjJDDy",
        "outputId": "24a7ab71-627b-44d5-d33e-65f3e81b8ab6"
      },
      "execution_count": null,
      "outputs": [
        {
          "output_type": "stream",
          "name": "stdout",
          "text": [
            "Redefine length\n",
            "4\n"
          ]
        }
      ]
    },
    {
      "cell_type": "markdown",
      "source": [
        "In the below example, fuel_type() and max_speed() are the instance methods created in both classes."
      ],
      "metadata": {
        "id": "0pVMd7KdKWRY"
      }
    },
    {
      "cell_type": "code",
      "source": [
        "class Ferrari:\n",
        "    def fuel_type(self):\n",
        "        print(\"Petrol\")\n",
        "\n",
        "    def max_speed(self):\n",
        "        print(\"Max speed 350\")\n",
        "\n",
        "class BMW:\n",
        "    def fuel_type(self):\n",
        "        print(\"Diesel\")\n",
        "\n",
        "    def max_speed(self):\n",
        "        print(\"Max speed is 240\")\n",
        "\n",
        "ferrari = Ferrari()\n",
        "bmw = BMW()\n",
        "\n",
        "# iterate objects of same type\n",
        "for car in (ferrari, bmw):\n",
        "    # call methods without checking class of object\n",
        "    car.fuel_type()\n",
        "    car.max_speed()"
      ],
      "metadata": {
        "colab": {
          "base_uri": "https://localhost:8080/"
        },
        "id": "M5afgRr9JZ2a",
        "outputId": "e594c1d0-3465-4907-c813-26d50a57ca9c"
      },
      "execution_count": null,
      "outputs": [
        {
          "output_type": "stream",
          "name": "stdout",
          "text": [
            "Petrol\n",
            "Max speed 350\n",
            "Diesel\n",
            "Max speed is 240\n"
          ]
        }
      ]
    },
    {
      "cell_type": "code",
      "source": [
        "#Example: User-defined polymorphic method\n",
        "class Shape:\n",
        "    # function with two default parameters\n",
        "    def area(self, a, b=0):\n",
        "        if b > 0:\n",
        "            print('Area of Rectangle is:', a * b)\n",
        "        else:\n",
        "            print('Area of Square is:', a ** 2)\n",
        "\n",
        "square = Shape()\n",
        "square.area(5)\n",
        "\n",
        "rectangle = Shape()\n",
        "rectangle.area(5, 3)\n"
      ],
      "metadata": {
        "colab": {
          "base_uri": "https://localhost:8080/"
        },
        "id": "R-rB8vtBLqKk",
        "outputId": "e94c4875-433d-4ec6-f2d6-fc4ab0fb7a8c"
      },
      "execution_count": null,
      "outputs": [
        {
          "output_type": "stream",
          "name": "stdout",
          "text": [
            "Area of Square is: 25\n",
            "Area of Rectangle is: 15\n"
          ]
        }
      ]
    },
    {
      "cell_type": "code",
      "source": [
        "# add 2 numbers\n",
        "print(100 + 200)\n",
        "\n",
        "# concatenate two strings\n",
        "print('Jess' + 'Roy')\n",
        "\n",
        "# merger two list\n",
        "print([10, 20, 30] + ['jessa', 'emma', 'kelly'])\n"
      ],
      "metadata": {
        "id": "YJ5zuqF7L_GI",
        "colab": {
          "base_uri": "https://localhost:8080/"
        },
        "outputId": "1f9071af-847c-46c5-e691-75df728fd1ba"
      },
      "execution_count": null,
      "outputs": [
        {
          "output_type": "stream",
          "name": "stdout",
          "text": [
            "300\n",
            "JessRoy\n",
            "[10, 20, 30, 'jessa', 'emma', 'kelly']\n"
          ]
        }
      ]
    },
    {
      "cell_type": "code",
      "source": [
        "class Book:\n",
        "    def __init__(self, pages):\n",
        "        self.pages = pages\n",
        "\n",
        "    # Overloading + operator with magic method\n",
        "    def __add__(self, other):\n",
        "        return self.pages + other.pages\n",
        "\n",
        "b1 = Book(400)\n",
        "b2 = Book(300)\n",
        "print(\"Total number of pages: \", b1 + b2)\n"
      ],
      "metadata": {
        "colab": {
          "base_uri": "https://localhost:8080/"
        },
        "id": "Av2zIS4VMlWi",
        "outputId": "d70826ab-d783-435f-9698-b418a49d9211"
      },
      "execution_count": null,
      "outputs": [
        {
          "output_type": "stream",
          "name": "stdout",
          "text": [
            "Total number of pages:  700\n"
          ]
        }
      ]
    },
    {
      "cell_type": "markdown",
      "source": [
        "For example, In the real world, Car is a sub-class of a Vehicle class. We can create a Car by inheriting the properties of a Vehicle such as Wheels, Colors, Fuel tank, engine, and add extra properties in Car as required.\n",
        "Syntax\n",
        "\n",
        "class BaseClass:\n",
        "  Body of base class\n",
        "class DerivedClass(BaseClass):\n",
        "  Body of derived class\n"
      ],
      "metadata": {
        "id": "7pUrJd2ZN_5D"
      }
    },
    {
      "cell_type": "code",
      "source": [
        "#multiple inheritance\n",
        "# Parent class 1\n",
        "class Person:\n",
        "    def person_info(self, name, age):\n",
        "        print('Inside Person class')\n",
        "        print('Name:', name, 'Age:', age)\n",
        "\n",
        "# Parent class 2\n",
        "class Company:\n",
        "    def company_info(self, company_name, location):\n",
        "        print('Inside Company class')\n",
        "        print('Name:', company_name, 'location:', location)\n",
        "\n",
        "# Child class\n",
        "class Employee(Person, Company):\n",
        "    def Employee_info(self, salary, skill):\n",
        "        print('Inside Employee class')\n",
        "        print('Salary:', salary, 'Skill:', skill)\n",
        "\n",
        "# Create object of Employee\n",
        "emp = Employee()\n",
        "\n",
        "# access data\n",
        "emp.person_info('Jessa', 28)\n",
        "emp.company_info('Google', 'Atlanta')\n",
        "emp.Employee_info(12000, 'Machine Learning')\n"
      ],
      "metadata": {
        "colab": {
          "base_uri": "https://localhost:8080/"
        },
        "id": "EoPRevLoOKtc",
        "outputId": "189bd530-567b-4455-ab47-f1d3ab7b6d02"
      },
      "execution_count": null,
      "outputs": [
        {
          "output_type": "stream",
          "name": "stdout",
          "text": [
            "Inside Person class\n",
            "Name: Jessa Age: 28\n",
            "Inside Company class\n",
            "Name: Google location: Atlanta\n",
            "Inside Employee class\n",
            "Salary: 12000 Skill: Machine Learning\n"
          ]
        }
      ]
    },
    {
      "cell_type": "code",
      "source": [
        "class Student:\n",
        "    def __init__(self, roll_no, name):\n",
        "        # Instance variable\n",
        "        self.roll_no = roll_no\n",
        "        self.name = name\n",
        "\n",
        "s1 = Student(10, 'Jessa')\n",
        "print('Instance variable object has')\n",
        "print(s1.__dict__)\n",
        "\n",
        "# Get each instance variable\n",
        "for key_value in s1.__dict__.items():\n",
        "    print(key_value[0], '=', key_value[1])\n"
      ],
      "metadata": {
        "colab": {
          "base_uri": "https://localhost:8080/"
        },
        "id": "EL1lKxjAQbXq",
        "outputId": "f44ed4f1-a0dc-4e1c-ab7e-9ba350dfc640"
      },
      "execution_count": null,
      "outputs": [
        {
          "output_type": "stream",
          "name": "stdout",
          "text": [
            "Instance variable object has\n",
            "{'roll_no': 10, 'name': 'Jessa'}\n",
            "roll_no = 10\n",
            "name = Jessa\n"
          ]
        }
      ]
    },
    {
      "cell_type": "code",
      "source": [
        "class Student:\n",
        "    # constructor\n",
        "    def __init__(self, name, age):\n",
        "        # Instance variable\n",
        "        self.name = name\n",
        "        self.age = age\n",
        "\n",
        "    # instance method to access instance variable\n",
        "    def show(self):\n",
        "        print('Name:', self.name, 'Age:', self.age)"
      ],
      "metadata": {
        "id": "VPi6COrlRjxB"
      },
      "execution_count": null,
      "outputs": []
    },
    {
      "cell_type": "code",
      "source": [
        "class Student:\n",
        "    # constructor\n",
        "    def __init__(self, name, age):\n",
        "        # Instance variable\n",
        "        self.name = name\n",
        "        self.age = age\n",
        "\n",
        "    # instance method access instance variable\n",
        "    def show(self):\n",
        "        print('Name:', self.name, 'Age:', self.age)\n",
        "\n",
        "# create first object\n",
        "print('First Student')\n",
        "emma = Student(\"Jessa\", 14)\n",
        "# call instance method\n",
        "emma.show()\n",
        "\n",
        "# create second object\n",
        "print('Second Student')\n",
        "kelly = Student(\"Kelly\", 16)\n",
        "# call instance method\n",
        "kelly.show()"
      ],
      "metadata": {
        "colab": {
          "base_uri": "https://localhost:8080/"
        },
        "id": "HO15CR3QRslT",
        "outputId": "1d3c5acf-fd86-4c09-e482-a94560001ceb"
      },
      "execution_count": null,
      "outputs": [
        {
          "output_type": "stream",
          "name": "stdout",
          "text": [
            "First Student\n",
            "Name: Jessa Age: 14\n",
            "Second Student\n",
            "Name: Kelly Age: 16\n"
          ]
        }
      ]
    },
    {
      "cell_type": "code",
      "source": [
        "import types\n",
        "\n",
        "class Student:\n",
        "    # constructor\n",
        "    def __init__(self, name, age):\n",
        "        self.name = name\n",
        "        self.age = age\n",
        "\n",
        "    # instance method\n",
        "    def show(self):\n",
        "        print('Name:', self.name, 'Age:', self.age)\n",
        "\n",
        "# create new method\n",
        "def welcome(self):\n",
        "    print(\"Hello\", self.name, \"Welcome to Class IX\")\n",
        "\n",
        "\n",
        "# create object\n",
        "s1 = Student(\"Jessa\", 15)\n",
        "\n",
        "# Add instance method to object\n",
        "s1.welcome = types.MethodType(welcome, s1)\n",
        "s1.show()\n",
        "\n",
        "# call newly added method\n",
        "s1.welcome()"
      ],
      "metadata": {
        "colab": {
          "base_uri": "https://localhost:8080/"
        },
        "id": "m39O1FmFR-yk",
        "outputId": "9e45713e-e37a-4b2c-f433-0eb25441e05c"
      },
      "execution_count": null,
      "outputs": [
        {
          "output_type": "stream",
          "name": "stdout",
          "text": [
            "Name: Jessa Age: 15\n",
            "Hello Jessa Welcome to Class IX\n"
          ]
        }
      ]
    },
    {
      "cell_type": "code",
      "source": [
        "#Access Class Variable in the constructor\n",
        "class Student:\n",
        "    # Class variable\n",
        "    school_name = 'ABC School '\n",
        "\n",
        "    # constructor\n",
        "    def __init__(self, name):\n",
        "        self.name = name\n",
        "        # access class variable inside constructor using self\n",
        "        print(self.school_name)\n",
        "        # access using class name\n",
        "        print(Student.school_name)\n",
        "\n",
        "# create Object\n",
        "s1 = Student('Emma')"
      ],
      "metadata": {
        "colab": {
          "base_uri": "https://localhost:8080/"
        },
        "id": "7FqRsCzrSNBs",
        "outputId": "ed91d117-666c-4fee-854d-6722436f3cfd"
      },
      "execution_count": null,
      "outputs": [
        {
          "output_type": "stream",
          "name": "stdout",
          "text": [
            "ABC School \n",
            "ABC School \n"
          ]
        }
      ]
    },
    {
      "cell_type": "code",
      "source": [
        "#Create Class Method Using @classmethod Decorator\n",
        "from datetime import date\n",
        "\n",
        "class Student:\n",
        "    def __init__(self, name, age):\n",
        "        self.name = name\n",
        "        self.age = age\n",
        "\n",
        "    @classmethod\n",
        "    def calculate_age(cls, name, birth_year):\n",
        "        # calculate age an set it as a age\n",
        "        # return new object\n",
        "        return cls(name, date.today().year - birth_year)\n",
        "\n",
        "    def show(self):\n",
        "        print(self.name + \"'s age is: \" + str(self.age))\n",
        "\n",
        "jessa = Student('Jessa', 20)\n",
        "jessa.show()\n",
        "\n",
        "# create new object using the factory method\n",
        "joy = Student.calculate_age(\"Joy\", 1995)\n",
        "joy.show()\n"
      ],
      "metadata": {
        "colab": {
          "base_uri": "https://localhost:8080/"
        },
        "id": "A27P7DjXSoU1",
        "outputId": "60ad5db8-e477-49de-fbe2-4e8c73782d44"
      },
      "execution_count": null,
      "outputs": [
        {
          "output_type": "stream",
          "name": "stdout",
          "text": [
            "Jessa's age is: 20\n",
            "Joy's age is: 27\n"
          ]
        }
      ]
    },
    {
      "cell_type": "code",
      "source": [
        "class Employee:\n",
        "    @staticmethod\n",
        "    def sample(x):\n",
        "        print('Inside static method', x)\n",
        "\n",
        "# call static method\n",
        "Employee.sample(10)\n",
        "\n",
        "# can be called using object\n",
        "emp = Employee()\n",
        "emp.sample(10)"
      ],
      "metadata": {
        "id": "lkqEUt2sU4ov",
        "outputId": "f35385f3-0478-4302-e746-60b196be78a6",
        "colab": {
          "base_uri": "https://localhost:8080/"
        }
      },
      "execution_count": null,
      "outputs": [
        {
          "output_type": "stream",
          "name": "stdout",
          "text": [
            "Inside static method 10\n",
            "Inside static method 10\n"
          ]
        }
      ]
    },
    {
      "cell_type": "markdown",
      "source": [
        "DSA in python\n",
        "\n",
        "Singly Linked list "
      ],
      "metadata": {
        "id": "6-8s9Oq1qqKg"
      }
    },
    {
      "cell_type": "code",
      "source": [
        "#This program explains how to add element at the beginning\n",
        "class Node: #node class\n",
        "  def __init__(self,data): #initialisation \n",
        "    self.data = data #instance method\n",
        "    self.ref = None\n",
        "\n",
        "class LinkedList: #linkedlist\n",
        "  def __init__(self):\n",
        "    self.head = None\n",
        "\n",
        "  def print_LL(self): #traversal operation\n",
        "    if self.head is None:\n",
        "      print(\"linked list is empty\")\n",
        "    else:\n",
        "      n=self.head\n",
        "      while n is not None:\n",
        "        print(n.data,\"-->\",end =\" \")\n",
        "        n=n.ref\n",
        "\n",
        "  def add_begin(self,data):\n",
        "     new_node = Node(data)\n",
        "     new_node.ref = self.head\n",
        "     self.head = new_node\n",
        "\n",
        "  def add_end(self,data):\n",
        "   new_node = Node(data)\n",
        "   if self.head is None:\n",
        "     self.head =new_node\n",
        "   else:\n",
        "     n= self.head\n",
        "     while n.ref is not None:\n",
        "       n=n.ref\n",
        "     n.ref = new_node  \n",
        "   \n",
        "  def add_after(self,data,x): #adding element after the given node.\n",
        "      n= self.head\n",
        "      while n is not None:\n",
        "        if x==n.data:\n",
        "          break\n",
        "        n = n.ref\n",
        "      if n is None:\n",
        "        print(\"node is not present in LL\")\n",
        "      else:\n",
        "        new_node =Node(data)\n",
        "        new_node.ref = n.ref\n",
        "        n.ref=new_node\n",
        "\n",
        "LL1 = LinkedList()\n",
        "LL1.add_end(10)\n",
        "LL1.add_end(20)\n",
        "LL1.add_end(30)\n",
        "LL1.add_end(40)\n",
        "LL1.add_after(10,15)\n",
        "LL1.print_LL()"
      ],
      "metadata": {
        "id": "rwiOug8SU9NQ",
        "colab": {
          "base_uri": "https://localhost:8080/"
        },
        "outputId": "cb4af24f-f376-472f-ddb4-449fbd3b515e"
      },
      "execution_count": null,
      "outputs": [
        {
          "output_type": "stream",
          "name": "stdout",
          "text": [
            "10 --> 20 --> 10 --> 30 --> 40 --> "
          ]
        }
      ]
    },
    {
      "cell_type": "code",
      "source": [
        "class Node:\n",
        "  def __init__(self,data):\n",
        "    self.data=data\n",
        "    self.ref=None\n",
        "\n",
        "LL1=Node(4)"
      ],
      "metadata": {
        "id": "pQ_lsIEsy8PO"
      },
      "execution_count": null,
      "outputs": []
    },
    {
      "cell_type": "code",
      "source": [
        "import json #example for lambda function in AWS\n",
        "def lambda_handler(event,context):\n",
        "  return {\n",
        "      'body' :json.dumps('hello')\n",
        "  }\n"
      ],
      "metadata": {
        "id": "csf1iu3d-6H2"
      },
      "execution_count": null,
      "outputs": []
    },
    {
      "cell_type": "code",
      "source": [
        "class person:\n",
        "  pass #empty class\n",
        "p=person\n",
        "print(p)"
      ],
      "metadata": {
        "colab": {
          "base_uri": "https://localhost:8080/"
        },
        "id": "GKvxgMHf8ALJ",
        "outputId": "917929f5-2339-4759-8613-929969e86d19"
      },
      "execution_count": null,
      "outputs": [
        {
          "output_type": "stream",
          "name": "stdout",
          "text": [
            "<class '__main__.person'>\n"
          ]
        }
      ]
    },
    {
      "cell_type": "code",
      "source": [
        "class person:\n",
        "  def display(self): \n",
        "    print(\"hello\")\n",
        "person1=person()\n",
        "person1.display()"
      ],
      "metadata": {
        "colab": {
          "base_uri": "https://localhost:8080/"
        },
        "id": "SXopGi5JFp5L",
        "outputId": "b11e0ef5-98c1-45c6-9f8b-4149dde89867"
      },
      "execution_count": null,
      "outputs": [
        {
          "output_type": "stream",
          "name": "stdout",
          "text": [
            "hello\n"
          ]
        }
      ]
    },
    {
      "cell_type": "markdown",
      "source": [
        "self represents the instance of the class. By using the “self” keyword we can access the attributes and methods of the class in python. It binds the attributes with the given arguments"
      ],
      "metadata": {
        "id": "jBJ4dVciGZqz"
      }
    },
    {
      "cell_type": "code",
      "source": [
        "class person:\n",
        "  def __init__(self,name):\n",
        "    self.name = name\n",
        "  def display(self):\n",
        "    print(\"hello\",self.name)\n",
        "person(\"amulya\").display()"
      ],
      "metadata": {
        "colab": {
          "base_uri": "https://localhost:8080/"
        },
        "id": "YhoQr5BLGbF_",
        "outputId": "b7df1cb6-bc12-415c-c3ce-681d7ea11f83"
      },
      "execution_count": null,
      "outputs": [
        {
          "output_type": "stream",
          "name": "stdout",
          "text": [
            "hello amulya\n"
          ]
        }
      ]
    },
    {
      "cell_type": "code",
      "source": [
        "class student:#example for class and instance variable\n",
        "  clg=\"abc\"\n",
        "  def __init__(self,rollno,name):\n",
        "    self.rollno = rollno#instance variable\n",
        "    self.name=name\n",
        "  def display(self):\n",
        "    print(\"student name\",self.name)\n",
        "    print(\"student rollno\",self.rollno)\n",
        "    print(\"student clg\",student.clg)\n",
        "\n",
        "student1 = student(\"123\",\"raj\")\n",
        "student1.display()\n",
        "student2=student(\"213\",\"chinny\")\n",
        "student2.display()\n",
        "\n",
        "\n"
      ],
      "metadata": {
        "id": "FucOjJXlLEdP",
        "colab": {
          "base_uri": "https://localhost:8080/"
        },
        "outputId": "1704af36-c9c0-43cc-b15b-064df5c81584"
      },
      "execution_count": null,
      "outputs": [
        {
          "output_type": "stream",
          "name": "stdout",
          "text": [
            "student name raj\n",
            "student rollno 123\n",
            "student clg abc\n",
            "student name chinny\n",
            "student rollno 213\n",
            "student clg abc\n"
          ]
        }
      ]
    },
    {
      "cell_type": "code",
      "source": [
        "class animal: #example for inheritance\n",
        "  def eating(self):\n",
        "    print(\"eating\")\n",
        "class dog(animal):\n",
        "  def barking(self):\n",
        "    print(\"barking\")\n",
        "  \n",
        "\n",
        "d=dog()\n",
        "d.eating()\n",
        "d.barking()"
      ],
      "metadata": {
        "colab": {
          "base_uri": "https://localhost:8080/"
        },
        "id": "rJMUleeAx2T9",
        "outputId": "48633e7f-daee-4d46-9ab1-74b4f31ad3b8"
      },
      "execution_count": null,
      "outputs": [
        {
          "output_type": "stream",
          "name": "stdout",
          "text": [
            "eating\n",
            "barking\n"
          ]
        }
      ]
    },
    {
      "cell_type": "code",
      "source": [
        "#example for multilevel inheritance\n",
        "#base class\n",
        "class person:\n",
        "  def display(self):\n",
        "\n",
        "    print(\"this is class person\")\n",
        "\n",
        "#derived class\n",
        "class employee(person):\n",
        "  def printing(self):\n",
        "    print(\"hello, this is derived class \")\n",
        "  \n",
        "#derived class 2\n",
        "class programmer(employee):\n",
        "  def show(self):\n",
        "    print(\"this is another derived class\")\n",
        "  \n",
        "p1=programmer()\n",
        "p1.display()\n",
        "p1.printing()\n",
        "p1.show()\n"
      ],
      "metadata": {
        "colab": {
          "base_uri": "https://localhost:8080/"
        },
        "id": "ZkMdAuK28P4X",
        "outputId": "1bd376dc-c6fd-4d02-8e77-3cfe9d328754"
      },
      "execution_count": null,
      "outputs": [
        {
          "output_type": "stream",
          "name": "stdout",
          "text": [
            "this is class person\n",
            "hello, this is derived class \n",
            "this is another derived class\n"
          ]
        }
      ]
    },
    {
      "cell_type": "code",
      "source": [
        "#multiple inheritance\n",
        "class water_animal:\n",
        "  def display(self):\n",
        "    print(\"this animal lives in water\")\n",
        "class land_animal:\n",
        "  def printing(self):\n",
        "    print(\"this animal lives in land\")\n",
        "\n",
        "class frog(water_animal,land_animal):\n",
        "\n",
        "  pass\n",
        "f1=frog()\n",
        "f1.display()\n",
        "f1.printing()"
      ],
      "metadata": {
        "colab": {
          "base_uri": "https://localhost:8080/"
        },
        "id": "riUU795Y-NPp",
        "outputId": "65ccb549-cf3e-400b-d0c1-595ef18a32bd"
      },
      "execution_count": null,
      "outputs": [
        {
          "output_type": "stream",
          "name": "stdout",
          "text": [
            "this animal lives in water\n",
            "this animal lives in land\n"
          ]
        }
      ]
    },
    {
      "cell_type": "code",
      "source": [
        "#method overriding\n",
        "class A:\n",
        "  def display(self):\n",
        "    print(\"this class belongs to class A\")\n",
        "\n",
        "class B(A):\n",
        "  def display(self):\n",
        "    print(\"this class belongs to class B\")\n",
        "  \n",
        "\n",
        "b1=B()\n",
        "b1.display()\n"
      ],
      "metadata": {
        "colab": {
          "base_uri": "https://localhost:8080/"
        },
        "id": "b6tyg1kTALd3",
        "outputId": "0f457a5e-df32-4e4c-f3e4-16f4f3d16fce"
      },
      "execution_count": null,
      "outputs": [
        {
          "output_type": "stream",
          "name": "stdout",
          "text": [
            "this class belongs to class B\n"
          ]
        }
      ]
    },
    {
      "cell_type": "code",
      "source": [
        "#example for encapsulation\n",
        "class car:\n",
        "  def __int__(self):\n",
        "    self.__updatesoftware()\n",
        "  def drive(self):\n",
        "    print(\"driving\")\n",
        "  def __updatesoftware(self):\n",
        "    print(\"updating software\")\n",
        "\n",
        "blackcar=car()\n",
        "blackcar.drive()"
      ],
      "metadata": {
        "colab": {
          "base_uri": "https://localhost:8080/"
        },
        "id": "1pQuH_DBDMBT",
        "outputId": "c8dfd1ac-3558-404a-c478-22b95902e0c7"
      },
      "execution_count": null,
      "outputs": [
        {
          "output_type": "stream",
          "name": "stdout",
          "text": [
            "driving\n"
          ]
        }
      ]
    },
    {
      "cell_type": "code",
      "source": [
        "#example for polymorphism\n",
        "class dog:\n",
        "  def sound(self):\n",
        "    print(\"bow bow\")\n",
        "class cat:\n",
        "\n",
        "  def sound(self):\n",
        "\n",
        "    print(\"meow\")\n",
        "def makesound(animaltype):\n",
        "  animaltype.sound()\n",
        "catobj=cat()\n",
        "dogobj=dog()\n",
        "makesound(catobj)\n",
        "makesound(dogobj)"
      ],
      "metadata": {
        "id": "owGDGDytFpNW",
        "colab": {
          "base_uri": "https://localhost:8080/"
        },
        "outputId": "15935813-73af-4adf-eb02-89127c0759ed"
      },
      "execution_count": null,
      "outputs": [
        {
          "output_type": "stream",
          "name": "stdout",
          "text": [
            "meow\n",
            "bow bow\n"
          ]
        }
      ]
    }
  ]
}